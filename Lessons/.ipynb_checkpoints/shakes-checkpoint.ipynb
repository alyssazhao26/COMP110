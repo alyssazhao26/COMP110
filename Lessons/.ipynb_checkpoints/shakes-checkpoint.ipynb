{
 "cells": [
  {
   "cell_type": "markdown",
   "metadata": {},
   "source": [
    "# Quantifying Shakespeare\n",
    "\n",
    "Analyzing the drequencies of different letters in Shakespeare's work.\n",
    "\n",
    "(Data from: bit.ly/shakespeare-txt)\n",
    "\n",
    "In this notebook, we will:\n",
    "\n",
    "1. read all Shakespeare's works into a list of strings.\n",
    "2. count the frequencies of letters used.\n",
    "3. visulized the frequencies."
   ]
  },
  {
   "cell_type": "markdown",
   "metadata": {},
   "source": [
    "### Reading Lines"
   ]
  },
  {
   "cell_type": "code",
   "execution_count": 1,
   "metadata": {},
   "outputs": [],
   "source": [
    "from io import TextIOWrapper\n",
    "def read_lines(filename: str) -> list[str]:\n",
    "    \"\"\"Read text files into a list of strings for each line.\"\"\"\n",
    "    lines: list[str] = []\n",
    "    file_handle: TextIOWrapper = open(filename, 'r')\n",
    "    for line in file_handle:\n",
    "        # Strip leading and tailing whitespaces (\" a \" -> \"a\")\n",
    "        line = line.strip()\n",
    "        # Make every character lowercase\n",
    "        line = line.lower()\n",
    "        lines.append(line)\n",
    "    file_handle.close()\n",
    "    return lines\n"
   ]
  },
  {
   "cell_type": "code",
   "execution_count": 2,
   "metadata": {},
   "outputs": [],
   "source": [
    "Shakespeare_lines: list[str] = read_lines(\"../data/shakespeare.txt\")"
   ]
  },
  {
   "cell_type": "code",
   "execution_count": 3,
   "metadata": {},
   "outputs": [],
   "source": [
    "def tally(counts:dict[str, int], key: str) -> None:\n",
    "    \"\"\"Returns the count of each key.\"\"\"\n",
    "    if key not in counts:\n",
    "        counts[key] = 1\n",
    "    else:\n",
    "        counts[key] +=1"
   ]
  },
  {
   "cell_type": "code",
   "execution_count": 4,
   "metadata": {},
   "outputs": [],
   "source": [
    "def count_letters(lines: list[str]) -> dict[str, int]:\n",
    "    \"\"\"Return letters counts.\"\"\"\n",
    "    counts: dict[str, int] = {}\n",
    "    for line in lines:\n",
    "       for letter in line:\n",
    "         if letter.isalpha():\n",
    "          tally(counts, letter) \n",
    "    return counts\n"
   ]
  },
  {
   "cell_type": "code",
   "execution_count": 5,
   "metadata": {},
   "outputs": [],
   "source": [
    "shakes_letters = count_letters(Shakespeare_lines)"
   ]
  },
  {
   "cell_type": "markdown",
   "metadata": {},
   "source": [
    "### Sort Dictionaries"
   ]
  },
  {
   "cell_type": "code",
   "execution_count": 6,
   "metadata": {},
   "outputs": [
    {
     "data": {
      "text/plain": [
       "{'a': 289150,\n",
       " 'b': 61956,\n",
       " 'c': 88185,\n",
       " 'd': 149462,\n",
       " 'e': 447204,\n",
       " 'f': 80516,\n",
       " 'g': 68199,\n",
       " 'h': 236868,\n",
       " 'i': 253990,\n",
       " 'j': 4779,\n",
       " 'k': 35408,\n",
       " 'l': 170019,\n",
       " 'm': 111452,\n",
       " 'n': 243262,\n",
       " 'o': 314600,\n",
       " 'p': 58464,\n",
       " 'q': 3582,\n",
       " 'r': 237864,\n",
       " 's': 248989,\n",
       " 't': 329775,\n",
       " 'u': 128947,\n",
       " 'v': 37569,\n",
       " 'w': 89390,\n",
       " 'x': 5294,\n",
       " 'y': 94370,\n",
       " 'z': 1631}"
      ]
     },
     "execution_count": 6,
     "metadata": {},
     "output_type": "execute_result"
    }
   ],
   "source": [
    "# Make dictionary a list\n",
    "list_version_shakes: list[tuple[str,int]] = list(shakes_letters.items())\n",
    "\n",
    "# Sort a list\n",
    "\n",
    "sorted_letters_list = sorted(list_version_shakes)\n",
    "\n",
    "#reformat in a dictionary \n",
    "\n",
    "sorted_letters_dict = dict(sorted_letters_list)\n",
    "sorted_letters_dict\n",
    "\n"
   ]
  },
  {
   "cell_type": "code",
   "execution_count": 7,
   "metadata": {},
   "outputs": [
    {
     "data": {
      "text/plain": [
       "<BarContainer object of 26 artists>"
      ]
     },
     "execution_count": 7,
     "metadata": {},
     "output_type": "execute_result"
    },
    {
     "data": {
      "image/png": "[encoded data removed]",
      "text/plain": [
       "<Figure size 432x288 with 1 Axes>"
      ]
     },
     "metadata": {
      "needs_background": "light"
     },
     "output_type": "display_data"
    }
   ],
   "source": [
    "from matplotlib import pyplot\n",
    "\n",
    "pyplot.title('Letters frequency')\n",
    "pyplot.xlabel('Letters')\n",
    "pyplot.ylabel('Frequency')\n",
    "labels: list[str] = list(sorted_letters_dict.keys())\n",
    "values: list[int] = list(sorted_letters_dict.values())\n",
    "pyplot.bar(labels, values)"
   ]
  },
  {
   "cell_type": "code",
   "execution_count": null,
   "metadata": {},
   "outputs": [],
   "source": []
  }
 ],
 "metadata": {
  "kernelspec": {
   "display_name": "Python 3 (ipykernel)",
   "language": "python",
   "name": "python3"
  },
  "language_info": {
   "codemirror_mode": {
    "name": "ipython",
    "version": 3
   },
   "file_extension": ".py",
   "mimetype": "text/x-python",
   "name": "python",
   "nbconvert_exporter": "python",
   "pygments_lexer": "ipython3",
   "version": "3.9.12"
  }
 },
 "nbformat": 4,
 "nbformat_minor": 2
}
